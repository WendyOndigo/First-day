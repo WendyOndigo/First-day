{
  "nbformat": 4,
  "nbformat_minor": 0,
  "metadata": {
    "colab": {
      "name": "colab1.ipynb",
      "provenance": [],
      "toc_visible": true,
      "authorship_tag": "ABX9TyPIRdzDGsv+xWInFQneYK9k",
      "include_colab_link": true
    },
    "kernelspec": {
      "name": "python3",
      "display_name": "Python 3"
    }
  },
  "cells": [
    {
      "cell_type": "markdown",
      "metadata": {
        "id": "view-in-github",
        "colab_type": "text"
      },
      "source": [
        "<a href=\"https://colab.research.google.com/github/WendyOndigo/First-day/blob/master/colab1.ipynb\" target=\"_parent\"><img src=\"https://colab.research.google.com/assets/colab-badge.svg\" alt=\"Open In Colab\"/></a>"
      ]
    },
    {
      "cell_type": "code",
      "metadata": {
        "id": "nPfog-OIu8fJ"
      },
      "source": [
        ""
      ],
      "execution_count": null,
      "outputs": []
    },
    {
      "cell_type": "markdown",
      "metadata": {
        "id": "rWfPGn_ovAb4"
      },
      "source": [
        "#Genesis"
      ]
    },
    {
      "cell_type": "markdown",
      "metadata": {
        "id": "t93IGQc6wQwd"
      },
      "source": [
        "#Import Libraries\r\n",
        "Here we import the necessary libraries used in this notebook."
      ]
    },
    {
      "cell_type": "code",
      "metadata": {
        "colab": {
          "base_uri": "https://localhost:8080/"
        },
        "id": "vdWeO6IovENg",
        "outputId": "8c5cdcb0-a8c5-4796-b7a9-a0c0f29dc2a2"
      },
      "source": [
        "import pandas as pd\r\n",
        "import seaborn as sns\r\n",
        "import numpy as np\r\n",
        "import sklearn\r\n",
        "import matplotlib_venn\r\n",
        "import seaborn\r\n",
        "!pip install kora -q\r\n",
        "import kora.install.rdkit\r\n"
      ],
      "execution_count": null,
      "outputs": [
        {
          "output_type": "stream",
          "text": [
            "\u001b[K     |████████████████████████████████| 61kB 3.5MB/s \n",
            "\u001b[K     |████████████████████████████████| 61kB 6.7MB/s \n",
            "\u001b[?25h"
          ],
          "name": "stdout"
        }
      ]
    },
    {
      "cell_type": "code",
      "metadata": {
        "colab": {
          "base_uri": "https://localhost:8080/"
        },
        "id": "g3NNHMa0vKkH",
        "outputId": "03911b7d-af5e-4315-add0-f654d22bfeb9"
      },
      "source": [
        "! pip install py3dmol"
      ],
      "execution_count": null,
      "outputs": [
        {
          "output_type": "stream",
          "text": [
            "Collecting py3dmol\n",
            "  Downloading https://files.pythonhosted.org/packages/dd/19/dd527b0db65e730e20c3d5e5a7efbb7fbbf8d98f9debfb47962c13f479d6/py3Dmol-0.9.1-py2.py3-none-any.whl\n",
            "Installing collected packages: py3dmol\n",
            "Successfully installed py3dmol-0.9.1\n"
          ],
          "name": "stdout"
        }
      ]
    }
  ]
}